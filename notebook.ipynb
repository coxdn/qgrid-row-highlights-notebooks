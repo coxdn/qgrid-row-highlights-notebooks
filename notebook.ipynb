{
 "cells": [
  {
   "cell_type": "markdown",
   "metadata": {},
   "source": [
    "## Notebook installation\n",
    "First, import the qgrid module as you would any other module in Python.  If that doesn't work, something may have gone wrong while installing the qgrid package using pip.  I would go through the package installation steps on the [GitHub page](https://github.com/quantopian/qgrid) again with a new virtualenv to make sure everything installed correctly."
   ]
  },
  {
   "cell_type": "code",
   "execution_count": 1,
   "metadata": {},
   "outputs": [],
   "source": [
    "import qgrid"
   ]
  },
  {
   "cell_type": "markdown",
   "metadata": {},
   "source": [
    "##### Prepare non-python dependencies by calling [nbinstall](http://qgrid.readthedocs.org/en/latest/#qgrid.nbinstall)\n",
    "This step is required because at this point all you've done to install qgrid is to call `pip install`.  Pip doesn't know which folder your Jupyter notebook widgets need to get copied to (let's call this the \"widgets folder\"), only the Jupyter notebook process knows that.  So you need to run one line of code from within the Jupyter notebook to copy qgrid to the widgets folder.  This only has to be done once for a particular version of qgrid.  That being said, if you're running qgrid from it's source code and making changes to it's source code, you'll need to run this line every time you make a change, or else the changes won't do anything.  See our [API docs for the nbinstall function](http://qgrid.readthedocs.org/en/latest/#qgrid.nbinstall) for more details."
   ]
  },
  {
   "cell_type": "markdown",
   "metadata": {},
   "source": [
    "## API & Usage\n",
    "API documentation is hosted on readthedocs: http://qgrid.readthedocs.org/en/latest/\n",
    "\n",
    "The API documentation can also be accessed via the \"?\" operator in IPython.  To use the \"?\" operator, type the name of the function followed by \"?\" to see the documentation for that function, like this:\n",
    "```\n",
    "qgrid.nbinstall?\n",
    "qgrid.show_grid?\n",
    "qgrid.set_defaults?\n",
    "qgrid.set_grid_options?\n",
    "\n",
    "```"
   ]
  },
  {
   "cell_type": "markdown",
   "metadata": {},
   "source": [
    "## Example 1 - Render a DataFrame returned by Yahoo Finance\n",
    "\n",
    "### 1. Create a sample DataFrame using the `get_data_yahoo` function and render it without using qgrid"
   ]
  },
  {
   "cell_type": "code",
   "execution_count": 1,
   "metadata": {},
   "outputs": [
    {
     "data": {
      "application/vnd.jupyter.widget-view+json": {
       "model_id": "051dff860a5941d8945ee8f9787fa093",
       "version_major": 2,
       "version_minor": 0
      },
      "text/plain": [
       "VBox(children=(HTML(value='<div id=\"exampleAnchor\" style=\"display:none;\"></div>'), QgridWidget(grid_options={'…"
      ]
     },
     "metadata": {},
     "output_type": "display_data"
    }
   ],
   "source": [
    "import qgrid\n",
    "import pandas as pd\n",
    "from ipywidgets import widgets\n",
    "from src.load_data import load_data\n",
    "from src.anchor import create_anchor\n",
    "from src.styles import display_styles\n",
    "\n",
    "'''\n",
    "window.HIGHLIGHT_CLASS_NAME_BY_TYPE = {\n",
    "    'type-1': ['highlighted-row', 'row-type-1'],\n",
    "    'type-2': ['highlighted-row', 'row-type-2'],\n",
    "    'type-3': ['highlighted-row', 'row-type-3'],\n",
    "}\n",
    "'''\n",
    "\n",
    "\n",
    "GRID_OPTIONS = {'filterable': False, 'defaultColumnWidth': 200, 'maxVisibleRows': 10}\n",
    "\n",
    "dataframe = load_data()\n",
    "\n",
    "\n",
    "df = pd.DataFrame(dataframe)\n",
    "\n",
    "qgrid_element = qgrid.show_grid(df, grid_options=GRID_OPTIONS)\n",
    "\n",
    "element = widgets.VBox([\n",
    "    create_anchor('exampleAnchor'),\n",
    "    qgrid_element,\n",
    "])\n",
    "\n",
    "display(element)"
   ]
  },
  {
   "cell_type": "markdown",
   "metadata": {},
   "source": [
    "*The table above is Jupyter notebook's default representation of the 'spy' DataFrame.*"
   ]
  },
  {
   "cell_type": "markdown",
   "metadata": {},
   "source": [
    "### 2. Render the DataFrame again, this time using qgrid"
   ]
  },
  {
   "cell_type": "markdown",
   "metadata": {},
   "source": [
    "*The cell above shows the same 'spy' DataFrame rendered as a qgrid.  Qgrids allows you to scroll, sort, and filter hundreds of thousands of rows with extreme responsiveness.  If you double click on the cells they become editable, and the edits change the values stored in the DataFrame as you would expect.* "
   ]
  }
 ],
 "metadata": {
  "kernelspec": {
   "display_name": "Python 3 (ipykernel)",
   "language": "python",
   "name": "python3"
  },
  "language_info": {
   "codemirror_mode": {
    "name": "ipython",
    "version": 3
   },
   "file_extension": ".py",
   "mimetype": "text/x-python",
   "name": "python",
   "nbconvert_exporter": "python",
   "pygments_lexer": "ipython3",
   "version": "3.11.5"
  }
 },
 "nbformat": 4,
 "nbformat_minor": 1
}
